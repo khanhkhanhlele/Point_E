{
 "cells": [
  {
   "cell_type": "code",
   "execution_count": 1,
   "metadata": {},
   "outputs": [],
   "source": [
    "import torch\n",
    "from tqdm.auto import tqdm\n",
    "\n",
    "from point_e.diffusion.configs import DIFFUSION_CONFIGS, diffusion_from_config\n",
    "from point_e.diffusion.sampler import PointCloudSampler\n",
    "from point_e.models.download import load_checkpoint\n",
    "from point_e.models.configs import MODEL_CONFIGS, model_from_config\n",
    "from point_e.util.plotting import plot_point_cloud, plot_3D\n",
    "\n",
    "from PIL import Image\n",
    "from tqdm.auto import tqdm\n",
    "import plotly.graph_objects as go\n",
    "\n",
    "from point_e.util.point_cloud import PointCloud\n"
   ]
  },
  {
   "cell_type": "code",
   "execution_count": 2,
   "metadata": {},
   "outputs": [],
   "source": [
    "%load_ext autoreload\n",
    "%autoreload 2"
   ]
  },
  {
   "cell_type": "code",
   "execution_count": 18,
   "metadata": {},
   "outputs": [
    {
     "name": "stdout",
     "output_type": "stream",
     "text": [
      "c:\\Users\\X1G6\\OneDrive - Hanoi University of Science and Technology\\FPT_AIC\\code\n",
      "^C\n"
     ]
    },
    {
     "name": "stdout",
     "output_type": "stream",
     "text": [
      "Obtaining file:///C:/Users/X1G6/OneDrive%20-%20Hanoi%20University%20of%20Science%20and%20Technology/FPT_AIC/code\n"
     ]
    },
    {
     "name": "stderr",
     "output_type": "stream",
     "text": [
      "ERROR: file:///C:/Users/X1G6/OneDrive%20-%20Hanoi%20University%20of%20Science%20and%20Technology/FPT_AIC/code does not appear to be a Python project: neither 'setup.py' nor 'pyproject.toml' found.\n"
     ]
    }
   ],
   "source": [
    "%cd ..\n",
    "!pip install -e ."
   ]
  },
  {
   "cell_type": "code",
   "execution_count": 3,
   "metadata": {},
   "outputs": [
    {
     "name": "stdout",
     "output_type": "stream",
     "text": [
      "creating base model...\n",
      "creating upsample model...\n",
      "downloading base checkpoint...\n",
      "downloading upsampler checkpoint...\n"
     ]
    },
    {
     "data": {
      "text/plain": [
       "<All keys matched successfully>"
      ]
     },
     "execution_count": 3,
     "metadata": {},
     "output_type": "execute_result"
    }
   ],
   "source": [
    "device = torch.device('cuda' if torch.cuda.is_available() else 'cpu')\n",
    "\n",
    "print('creating base model...')\n",
    "base_name = 'base40M-textvec'\n",
    "base_model = model_from_config(MODEL_CONFIGS[base_name], device)\n",
    "base_model.eval()\n",
    "base_diffusion = diffusion_from_config(DIFFUSION_CONFIGS[base_name])\n",
    "\n",
    "print('creating upsample model...')\n",
    "upsampler_model = model_from_config(MODEL_CONFIGS['upsample'], device)\n",
    "upsampler_model.eval()\n",
    "upsampler_diffusion = diffusion_from_config(DIFFUSION_CONFIGS['upsample'])\n",
    "\n",
    "print('downloading base checkpoint...')\n",
    "base_model.load_state_dict(load_checkpoint(base_name, device))\n",
    "\n",
    "print('downloading upsampler checkpoint...')\n",
    "upsampler_model.load_state_dict(load_checkpoint('upsample', device))"
   ]
  },
  {
   "cell_type": "code",
   "execution_count": null,
   "metadata": {},
   "outputs": [],
   "source": [
    "sampler = PointCloudSampler(\n",
    "    device=device,\n",
    "    models=[base_model, upsampler_model],\n",
    "    diffusions=[base_diffusion, upsampler_diffusion],\n",
    "    num_points=[1024, 4096 - 1024],\n",
    "    aux_channels=['R', 'G', 'B'],\n",
    "    guidance_scale=[3.0, 0.0],\n",
    "    model_kwargs_key_filter=('texts', ''), # Do not condition the upsampler at all\n",
    ")"
   ]
  },
  {
   "cell_type": "code",
   "execution_count": 5,
   "metadata": {},
   "outputs": [],
   "source": [
    "sampler = PointCloudSampler(\n",
    "  device=device,\n",
    "  models=[base_model],\n",
    "  diffusions=[base_diffusion],\n",
    "  num_points=[1024],\n",
    "  aux_channels=['R', 'G', 'B'],\n",
    "  guidance_scale=[3.0],\n",
    "  model_kwargs_key_filter=['texts'],\n",
    "  use_karras = [True],\n",
    "  karras_steps = [64],\n",
    "  sigma_min = [1e-3],\n",
    "  sigma_max = [120],\n",
    "  s_churn = [3],\n",
    ")"
   ]
  },
  {
   "cell_type": "code",
   "execution_count": 11,
   "metadata": {},
   "outputs": [
    {
     "name": "stdout",
     "output_type": "stream",
     "text": [
      "tensor([[[-1.4755e-02,  8.3027e-03,  2.0180e-03,  ...,  8.1520e-03,\n",
      "          -6.8459e-02, -2.8924e-02],\n",
      "         [ 2.6321e-02,  3.2393e-02,  8.3271e-02,  ...,  4.9217e-02,\n",
      "          -4.6284e-02,  8.7147e-03],\n",
      "         [-2.3000e-01, -2.5585e-01, -1.5788e-01,  ..., -3.8034e-01,\n",
      "          -1.5378e-01, -1.7454e-01],\n",
      "         [ 1.6914e+02,  1.5722e+02,  1.4277e+02,  ...,  1.3945e+02,\n",
      "           1.6102e+02,  1.6777e+02],\n",
      "         [ 3.9010e+01,  9.5830e+00,  3.6495e+01,  ...,  4.5379e+00,\n",
      "           2.3765e+01,  2.8359e+01],\n",
      "         [-2.0927e+00,  1.1388e+01, -5.7164e+00,  ..., -2.4936e+01,\n",
      "          -3.7699e+00, -1.7856e+01]]])\n"
     ]
    }
   ],
   "source": [
    "print(samples)"
   ]
  },
  {
   "cell_type": "code",
   "execution_count": 8,
   "metadata": {},
   "outputs": [
    {
     "data": {
      "application/vnd.jupyter.widget-view+json": {
       "model_id": "5104febccfc647eea2ea17ed7ce5737c",
       "version_major": 2,
       "version_minor": 0
      },
      "text/plain": [
       "0it [00:00, ?it/s]"
      ]
     },
     "metadata": {},
     "output_type": "display_data"
    },
    {
     "ename": "TypeError",
     "evalue": "karras_sample_progressive() missing 1 required positional argument: 'diffusion'",
     "output_type": "error",
     "traceback": [
      "\u001b[1;31m---------------------------------------------------------------------------\u001b[0m",
      "\u001b[1;31mTypeError\u001b[0m                                 Traceback (most recent call last)",
      "Cell \u001b[1;32mIn[8], line 6\u001b[0m\n\u001b[0;32m      4\u001b[0m \u001b[38;5;66;03m# Produce a sample from the model.\u001b[39;00m\n\u001b[0;32m      5\u001b[0m samples \u001b[38;5;241m=\u001b[39m \u001b[38;5;28;01mNone\u001b[39;00m\n\u001b[1;32m----> 6\u001b[0m \u001b[38;5;28;01mfor\u001b[39;00m x \u001b[38;5;129;01min\u001b[39;00m tqdm(sampler\u001b[38;5;241m.\u001b[39msample_batch_progressive(batch_size\u001b[38;5;241m=\u001b[39m\u001b[38;5;241m1\u001b[39m, model_kwargs\u001b[38;5;241m=\u001b[39m\u001b[38;5;28mdict\u001b[39m(texts\u001b[38;5;241m=\u001b[39m[prompt]))):\n\u001b[0;32m      7\u001b[0m     samples \u001b[38;5;241m=\u001b[39m x\n",
      "File \u001b[1;32mc:\\Users\\X1G6\\anaconda3\\Lib\\site-packages\\tqdm\\notebook.py:254\u001b[0m, in \u001b[0;36mtqdm_notebook.__iter__\u001b[1;34m(self)\u001b[0m\n\u001b[0;32m    252\u001b[0m \u001b[38;5;28;01mtry\u001b[39;00m:\n\u001b[0;32m    253\u001b[0m     it \u001b[38;5;241m=\u001b[39m \u001b[38;5;28msuper\u001b[39m(tqdm_notebook, \u001b[38;5;28mself\u001b[39m)\u001b[38;5;241m.\u001b[39m\u001b[38;5;21m__iter__\u001b[39m()\n\u001b[1;32m--> 254\u001b[0m     \u001b[38;5;28;01mfor\u001b[39;00m obj \u001b[38;5;129;01min\u001b[39;00m it:\n\u001b[0;32m    255\u001b[0m         \u001b[38;5;66;03m# return super(tqdm...) will not catch exception\u001b[39;00m\n\u001b[0;32m    256\u001b[0m         \u001b[38;5;28;01myield\u001b[39;00m obj\n\u001b[0;32m    257\u001b[0m \u001b[38;5;66;03m# NB: except ... [ as ...] breaks IPython async KeyboardInterrupt\u001b[39;00m\n",
      "File \u001b[1;32mc:\\Users\\X1G6\\anaconda3\\Lib\\site-packages\\tqdm\\std.py:1178\u001b[0m, in \u001b[0;36mtqdm.__iter__\u001b[1;34m(self)\u001b[0m\n\u001b[0;32m   1175\u001b[0m time \u001b[38;5;241m=\u001b[39m \u001b[38;5;28mself\u001b[39m\u001b[38;5;241m.\u001b[39m_time\n\u001b[0;32m   1177\u001b[0m \u001b[38;5;28;01mtry\u001b[39;00m:\n\u001b[1;32m-> 1178\u001b[0m     \u001b[38;5;28;01mfor\u001b[39;00m obj \u001b[38;5;129;01min\u001b[39;00m iterable:\n\u001b[0;32m   1179\u001b[0m         \u001b[38;5;28;01myield\u001b[39;00m obj\n\u001b[0;32m   1180\u001b[0m         \u001b[38;5;66;03m# Update and possibly print the progressbar.\u001b[39;00m\n\u001b[0;32m   1181\u001b[0m         \u001b[38;5;66;03m# Note: does not call self.update(1) for speed optimisation.\u001b[39;00m\n",
      "File \u001b[1;32mc:\\Users\\X1G6\\OneDrive - Hanoi University of Science and Technology\\FPT_AIC\\code\\Point_E\\point_e\\diffusion\\sampler.py:138\u001b[0m, in \u001b[0;36mPointCloudSampler.sample_batch_progressive\u001b[1;34m(self, batch_size, model_kwargs)\u001b[0m\n\u001b[0;32m    135\u001b[0m         stage_model_kwargs[k] \u001b[38;5;241m=\u001b[39m torch\u001b[38;5;241m.\u001b[39mcat([v, torch\u001b[38;5;241m.\u001b[39mzeros_like(v)], dim\u001b[38;5;241m=\u001b[39m\u001b[38;5;241m0\u001b[39m)\n\u001b[0;32m    137\u001b[0m \u001b[38;5;28;01mif\u001b[39;00m stage_use_karras:\n\u001b[1;32m--> 138\u001b[0m     samples_it \u001b[38;5;241m=\u001b[39m karras_sample_progressive(\n\u001b[0;32m    139\u001b[0m         model\u001b[38;5;241m=\u001b[39mmodel,\n\u001b[0;32m    140\u001b[0m         shape\u001b[38;5;241m=\u001b[39msample_shape,\n\u001b[0;32m    141\u001b[0m         steps\u001b[38;5;241m=\u001b[39mstage_karras_steps,\n\u001b[0;32m    142\u001b[0m         clip_denoised\u001b[38;5;241m=\u001b[39m\u001b[38;5;28mself\u001b[39m\u001b[38;5;241m.\u001b[39mclip_denoised,\n\u001b[0;32m    143\u001b[0m         model_kwargs\u001b[38;5;241m=\u001b[39mstage_model_kwargs,\n\u001b[0;32m    144\u001b[0m         device\u001b[38;5;241m=\u001b[39m\u001b[38;5;28mself\u001b[39m\u001b[38;5;241m.\u001b[39mdevice,\n\u001b[0;32m    145\u001b[0m         sigma_min\u001b[38;5;241m=\u001b[39mstage_sigma_min,\n\u001b[0;32m    146\u001b[0m         sigma_max\u001b[38;5;241m=\u001b[39mstage_sigma_max,\n\u001b[0;32m    147\u001b[0m         s_churn\u001b[38;5;241m=\u001b[39mstage_s_churn,\n\u001b[0;32m    148\u001b[0m         guidance_scale\u001b[38;5;241m=\u001b[39mstage_guidance_scale,\n\u001b[0;32m    149\u001b[0m     )\n\u001b[0;32m    150\u001b[0m \u001b[38;5;28;01melse\u001b[39;00m:\n\u001b[0;32m    151\u001b[0m     internal_batch_size \u001b[38;5;241m=\u001b[39m batch_size\n",
      "\u001b[1;31mTypeError\u001b[0m: karras_sample_progressive() missing 1 required positional argument: 'diffusion'"
     ]
    }
   ],
   "source": [
    "# Set a prompt to condition on.\n",
    "prompt = 'a red motorcycle'\n",
    "\n",
    "# Produce a sample from the model.\n",
    "samples = None\n",
    "for x in tqdm(sampler.sample_batch_progressive(batch_size=1, model_kwargs=dict(texts=[prompt]))):\n",
    "    samples = x"
   ]
  },
  {
   "cell_type": "code",
   "execution_count": 4,
   "metadata": {},
   "outputs": [
    {
     "ename": "NameError",
     "evalue": "name 'sampler' is not defined",
     "output_type": "error",
     "traceback": [
      "\u001b[1;31m---------------------------------------------------------------------------\u001b[0m",
      "\u001b[1;31mNameError\u001b[0m                                 Traceback (most recent call last)",
      "Cell \u001b[1;32mIn[4], line 7\u001b[0m\n\u001b[0;32m      5\u001b[0m samples \u001b[38;5;241m=\u001b[39m \u001b[38;5;28;01mNone\u001b[39;00m\n\u001b[0;32m      6\u001b[0m iterSample \u001b[38;5;241m=\u001b[39m []\n\u001b[1;32m----> 7\u001b[0m \u001b[38;5;28;01mfor\u001b[39;00m x \u001b[38;5;129;01min\u001b[39;00m tqdm(sampler\u001b[38;5;241m.\u001b[39msample_batch_progressive(batch_size\u001b[38;5;241m=\u001b[39m\u001b[38;5;241m1\u001b[39m, model_kwargs\u001b[38;5;241m=\u001b[39m\u001b[38;5;28mdict\u001b[39m(texts\u001b[38;5;241m=\u001b[39m[prompt]))):\n\u001b[0;32m      8\u001b[0m   samples \u001b[38;5;241m=\u001b[39m x\n\u001b[0;32m      9\u001b[0m   iterSample\u001b[38;5;241m.\u001b[39mappend(x)\n",
      "\u001b[1;31mNameError\u001b[0m: name 'sampler' is not defined"
     ]
    }
   ],
   "source": [
    "# Set a prompt to condition on.\n",
    "prompt = 'a dog' # @param {type:\"string\"}\n",
    "\n",
    "# Produce a sample from the model.\n",
    "samples = None\n",
    "iterSample = []\n",
    "for x in tqdm(sampler.sample_batch_progressive(batch_size=1, model_kwargs=dict(texts=[prompt]))):\n",
    "  samples = x\n",
    "  iterSample.append(x)\n"
   ]
  },
  {
   "cell_type": "code",
   "execution_count": 16,
   "metadata": {},
   "outputs": [
    {
     "data": {
      "text/plain": [
       "tensor([[[-4.4523e-02, -1.6998e-02,  7.4959e-04,  ...,  5.8441e-03,\n",
       "          -1.2627e-02, -9.4004e-02],\n",
       "         [-5.1922e-02, -6.1807e-02, -6.6776e-02,  ..., -1.4420e-03,\n",
       "          -1.3981e-02, -2.3487e-02],\n",
       "         [-5.7757e-02, -9.6827e-03, -8.2583e-03,  ..., -1.2584e-02,\n",
       "          -3.1506e-02, -6.1024e-02],\n",
       "         [ 1.6500e+02,  1.4112e+02,  1.3735e+02,  ...,  1.3462e+02,\n",
       "           1.7511e+02,  1.8974e+02],\n",
       "         [ 9.6765e+01,  1.0524e+02,  9.4439e+01,  ...,  1.0851e+02,\n",
       "           1.1414e+02,  1.5013e+02],\n",
       "         [ 1.0068e+02,  1.0992e+02,  9.2274e+01,  ...,  1.1387e+02,\n",
       "           1.2551e+02,  1.4588e+02]]])"
      ]
     },
     "execution_count": 16,
     "metadata": {},
     "output_type": "execute_result"
    }
   ],
   "source": [
    "iterSample[4]"
   ]
  },
  {
   "cell_type": "code",
   "execution_count": 21,
   "metadata": {},
   "outputs": [
    {
     "data": {
      "application/vnd.jupyter.widget-view+json": {
       "model_id": "e8d0fbea483d4c61a6cc3413d22cc8f7",
       "version_major": 2,
       "version_minor": 0
      },
      "text/plain": [
       "0it [00:00, ?it/s]"
      ]
     },
     "metadata": {},
     "output_type": "display_data"
    },
    {
     "name": "stdout",
     "output_type": "stream",
     "text": [
      "Unexpected exception formatting exception. Falling back to standard exception\n"
     ]
    },
    {
     "name": "stderr",
     "output_type": "stream",
     "text": [
      "Traceback (most recent call last):\n",
      "  File \"c:\\Users\\X1G6\\anaconda3\\Lib\\site-packages\\IPython\\core\\interactiveshell.py\", line 3553, in run_code\n",
      "    exec(code_obj, self.user_global_ns, self.user_ns)\n",
      "  File \"C:\\Users\\X1G6\\AppData\\Local\\Temp\\ipykernel_17224\\2451079390.py\", line 10, in <module>\n",
      "    for x in tqdm(sampler.invert(pc, model_kwargs=dict(texts=[prompt]))):\n",
      "  File \"c:\\Users\\X1G6\\anaconda3\\Lib\\site-packages\\tqdm\\notebook.py\", line 254, in __iter__\n",
      "    for obj in it:\n",
      "  File \"c:\\Users\\X1G6\\anaconda3\\Lib\\site-packages\\tqdm\\std.py\", line 1178, in __iter__\n",
      "    for obj in iterable:\n",
      "  File \"c:\\Users\\X1G6\\OneDrive - Hanoi University of Science and Technology\\FPT_AIC\\code\\point-e\\point_e\\diffusion\\sampler.py\", line 316, in invert\n",
      "    for x in samples_it:\n",
      "  File \"c:\\Users\\X1G6\\OneDrive - Hanoi University of Science and Technology\\FPT_AIC\\code\\point-e\\point_e\\diffusion\\k_diffusion.py\", line 181, in karras_sample_progressive\n",
      "    for obj in sample_fn(\n",
      "  File \"c:\\Users\\X1G6\\anaconda3\\Lib\\site-packages\\torch\\utils\\_contextlib.py\", line 56, in generator_context\n",
      "    response = gen.send(request)\n",
      "               ^^^^^^^^^^^^^^^^^\n",
      "  File \"c:\\Users\\X1G6\\OneDrive - Hanoi University of Science and Technology\\FPT_AIC\\code\\point-e\\point_e\\diffusion\\k_diffusion.py\", line 275, in sample_heun\n",
      "    denoised_2 = denoiser(x_2, sigmas[i + 1] * s_in)\n",
      "                 ^^^^^^^^^^^^^^^^^^^^^^^^^^^^^^^^^^^\n",
      "  File \"c:\\Users\\X1G6\\OneDrive - Hanoi University of Science and Technology\\FPT_AIC\\code\\point-e\\point_e\\diffusion\\k_diffusion.py\", line 173, in guided_denoiser\n",
      "    x_0 = denoiser(x_t, sigma)\n",
      "          ^^^^^^^^^^^^^^^^^^^^\n",
      "  File \"c:\\Users\\X1G6\\OneDrive - Hanoi University of Science and Technology\\FPT_AIC\\code\\point-e\\point_e\\diffusion\\k_diffusion.py\", line 160, in denoiser\n",
      "    _, denoised = model.denoise(\n",
      "                  ^^^^^^^^^^^^^^\n",
      "  File \"c:\\Users\\X1G6\\OneDrive - Hanoi University of Science and Technology\\FPT_AIC\\code\\point-e\\point_e\\diffusion\\k_diffusion.py\", line 105, in denoise\n",
      "    out = self.diffusion.p_mean_variance(\n",
      "          ^^^^^^^^^^^^^^^^^^^^^^^^^^^^^^^\n",
      "  File \"c:\\Users\\X1G6\\OneDrive - Hanoi University of Science and Technology\\FPT_AIC\\code\\point-e\\point_e\\diffusion\\gaussian_diffusion.py\", line 285, in p_mean_variance\n",
      "    model_output = model(x, t, **model_kwargs)\n",
      "                   ^^^^^^^^^^^^^^^^^^^^^^^^^^^\n",
      "  File \"c:\\Users\\X1G6\\anaconda3\\Lib\\site-packages\\torch\\nn\\modules\\module.py\", line 1511, in _wrapped_call_impl\n",
      "    return self._call_impl(*args, **kwargs)\n",
      "           ^^^^^^^^^^^^^^^^^^^^^^^^^^^^^^^^\n",
      "  File \"c:\\Users\\X1G6\\anaconda3\\Lib\\site-packages\\torch\\nn\\modules\\module.py\", line 1520, in _call_impl\n",
      "    return forward_call(*args, **kwargs)\n",
      "           ^^^^^^^^^^^^^^^^^^^^^^^^^^^^^\n",
      "  File \"c:\\Users\\X1G6\\OneDrive - Hanoi University of Science and Technology\\FPT_AIC\\code\\point-e\\point_e\\models\\transformer.py\", line 287, in forward\n",
      "    return self._forward_with_cond(x, cond)\n",
      "           ^^^^^^^^^^^^^^^^^^^^^^^^^^^^^^^^\n",
      "  File \"c:\\Users\\X1G6\\OneDrive - Hanoi University of Science and Technology\\FPT_AIC\\code\\point-e\\point_e\\models\\transformer.py\", line 221, in _forward_with_cond\n",
      "    h = self.backbone(h)\n",
      "        ^^^^^^^^^^^^^^^^\n",
      "  File \"c:\\Users\\X1G6\\anaconda3\\Lib\\site-packages\\torch\\nn\\modules\\module.py\", line 1511, in _wrapped_call_impl\n",
      "    return self._call_impl(*args, **kwargs)\n",
      "           ^^^^^^^^^^^^^^^^^^^^^^^^^^^^^^^^\n",
      "  File \"c:\\Users\\X1G6\\anaconda3\\Lib\\site-packages\\torch\\nn\\modules\\module.py\", line 1520, in _call_impl\n",
      "    return forward_call(*args, **kwargs)\n",
      "           ^^^^^^^^^^^^^^^^^^^^^^^^^^^^^\n",
      "  File \"c:\\Users\\X1G6\\OneDrive - Hanoi University of Science and Technology\\FPT_AIC\\code\\point-e\\point_e\\models\\transformer.py\", line 151, in forward\n",
      "    x = block(x)\n",
      "        ^^^^^^^^\n",
      "  File \"c:\\Users\\X1G6\\anaconda3\\Lib\\site-packages\\torch\\nn\\modules\\module.py\", line 1511, in _wrapped_call_impl\n",
      "    return self._call_impl(*args, **kwargs)\n",
      "           ^^^^^^^^^^^^^^^^^^^^^^^^^^^^^^^^\n",
      "  File \"c:\\Users\\X1G6\\anaconda3\\Lib\\site-packages\\torch\\nn\\modules\\module.py\", line 1520, in _call_impl\n",
      "    return forward_call(*args, **kwargs)\n",
      "           ^^^^^^^^^^^^^^^^^^^^^^^^^^^^^\n",
      "  File \"c:\\Users\\X1G6\\OneDrive - Hanoi University of Science and Technology\\FPT_AIC\\code\\point-e\\point_e\\models\\transformer.py\", line 114, in forward\n",
      "    x = x + self.mlp(self.ln_2(x))\n",
      "            ^^^^^^^^^^^^^^^^^^^^^^\n",
      "  File \"c:\\Users\\X1G6\\anaconda3\\Lib\\site-packages\\torch\\nn\\modules\\module.py\", line 1511, in _wrapped_call_impl\n",
      "    return self._call_impl(*args, **kwargs)\n",
      "           ^^^^^^^^^^^^^^^^^^^^^^^^^^^^^^^^\n",
      "  File \"c:\\Users\\X1G6\\anaconda3\\Lib\\site-packages\\torch\\nn\\modules\\module.py\", line 1520, in _call_impl\n",
      "    return forward_call(*args, **kwargs)\n",
      "           ^^^^^^^^^^^^^^^^^^^^^^^^^^^^^\n",
      "  File \"c:\\Users\\X1G6\\OneDrive - Hanoi University of Science and Technology\\FPT_AIC\\code\\point-e\\point_e\\models\\transformer.py\", line 62, in forward\n",
      "    return self.c_proj(self.gelu(self.c_fc(x)))\n",
      "                                 ^^^^^^^^^^^^\n",
      "  File \"c:\\Users\\X1G6\\anaconda3\\Lib\\site-packages\\torch\\nn\\modules\\module.py\", line 1511, in _wrapped_call_impl\n",
      "    return self._call_impl(*args, **kwargs)\n",
      "           ^^^^^^^^^^^^^^^^^^^^^^^^^^^^^^^^\n",
      "  File \"c:\\Users\\X1G6\\anaconda3\\Lib\\site-packages\\torch\\nn\\modules\\module.py\", line 1520, in _call_impl\n",
      "    return forward_call(*args, **kwargs)\n",
      "           ^^^^^^^^^^^^^^^^^^^^^^^^^^^^^\n",
      "  File \"c:\\Users\\X1G6\\anaconda3\\Lib\\site-packages\\torch\\nn\\modules\\linear.py\", line 116, in forward\n",
      "    return F.linear(input, self.weight, self.bias)\n",
      "           ^^^^^^^^^^^^^^^^^^^^^^^^^^^^^^^^^^^^^^^\n",
      "KeyboardInterrupt\n",
      "\n",
      "During handling of the above exception, another exception occurred:\n",
      "\n",
      "Traceback (most recent call last):\n",
      "  File \"c:\\Users\\X1G6\\anaconda3\\Lib\\site-packages\\IPython\\core\\interactiveshell.py\", line 2144, in showtraceback\n",
      "    stb = self.InteractiveTB.structured_traceback(\n",
      "          ^^^^^^^^^^^^^^^^^^^^^^^^^^^^^^^^^^^^^^^^\n",
      "  File \"c:\\Users\\X1G6\\anaconda3\\Lib\\site-packages\\IPython\\core\\ultratb.py\", line 1435, in structured_traceback\n",
      "    return FormattedTB.structured_traceback(\n",
      "           ^^^^^^^^^^^^^^^^^^^^^^^^^^^^^^^^^\n",
      "  File \"c:\\Users\\X1G6\\anaconda3\\Lib\\site-packages\\IPython\\core\\ultratb.py\", line 1326, in structured_traceback\n",
      "    return VerboseTB.structured_traceback(\n",
      "           ^^^^^^^^^^^^^^^^^^^^^^^^^^^^^^^\n",
      "  File \"c:\\Users\\X1G6\\anaconda3\\Lib\\site-packages\\IPython\\core\\ultratb.py\", line 1173, in structured_traceback\n",
      "    formatted_exception = self.format_exception_as_a_whole(etype, evalue, etb, number_of_lines_of_context,\n",
      "                          ^^^^^^^^^^^^^^^^^^^^^^^^^^^^^^^^^^^^^^^^^^^^^^^^^^^^^^^^^^^^^^^^^^^^^^^^^^^^^^^^\n",
      "  File \"c:\\Users\\X1G6\\anaconda3\\Lib\\site-packages\\IPython\\core\\ultratb.py\", line 1088, in format_exception_as_a_whole\n",
      "    frames.append(self.format_record(record))\n",
      "                  ^^^^^^^^^^^^^^^^^^^^^^^^^^\n",
      "  File \"c:\\Users\\X1G6\\anaconda3\\Lib\\site-packages\\IPython\\core\\ultratb.py\", line 970, in format_record\n",
      "    frame_info.lines, Colors, self.has_colors, lvals\n",
      "    ^^^^^^^^^^^^^^^^\n",
      "  File \"c:\\Users\\X1G6\\anaconda3\\Lib\\site-packages\\IPython\\core\\ultratb.py\", line 792, in lines\n",
      "    return self._sd.lines\n",
      "           ^^^^^^^^^^^^^^\n",
      "  File \"c:\\Users\\X1G6\\anaconda3\\Lib\\site-packages\\stack_data\\utils.py\", line 145, in cached_property_wrapper\n",
      "    value = obj.__dict__[self.func.__name__] = self.func(obj)\n",
      "                                               ^^^^^^^^^^^^^^\n",
      "  File \"c:\\Users\\X1G6\\anaconda3\\Lib\\site-packages\\stack_data\\core.py\", line 698, in lines\n",
      "    pieces = self.included_pieces\n",
      "             ^^^^^^^^^^^^^^^^^^^^\n",
      "  File \"c:\\Users\\X1G6\\anaconda3\\Lib\\site-packages\\stack_data\\utils.py\", line 145, in cached_property_wrapper\n",
      "    value = obj.__dict__[self.func.__name__] = self.func(obj)\n",
      "                                               ^^^^^^^^^^^^^^\n",
      "  File \"c:\\Users\\X1G6\\anaconda3\\Lib\\site-packages\\stack_data\\core.py\", line 649, in included_pieces\n",
      "    pos = scope_pieces.index(self.executing_piece)\n",
      "                             ^^^^^^^^^^^^^^^^^^^^\n",
      "  File \"c:\\Users\\X1G6\\anaconda3\\Lib\\site-packages\\stack_data\\utils.py\", line 145, in cached_property_wrapper\n",
      "    value = obj.__dict__[self.func.__name__] = self.func(obj)\n",
      "                                               ^^^^^^^^^^^^^^\n",
      "  File \"c:\\Users\\X1G6\\anaconda3\\Lib\\site-packages\\stack_data\\core.py\", line 628, in executing_piece\n",
      "    return only(\n",
      "           ^^^^^\n",
      "  File \"c:\\Users\\X1G6\\anaconda3\\Lib\\site-packages\\executing\\executing.py\", line 164, in only\n",
      "    raise NotOneValueFound('Expected one value, found 0')\n",
      "executing.executing.NotOneValueFound: Expected one value, found 0\n"
     ]
    }
   ],
   "source": [
    "pc = PointCloud.load('point_e\\examples\\example_data\\pc_corgi.npz')\n",
    "\n",
    "\n",
    "# Set a prompt to condition on.\n",
    "prompt = 'a corgi' # @param {type:\"string\"}\n",
    "\n",
    "# Produce a sample from the model.\n",
    "samples = None\n",
    "iterSample = []\n",
    "for x in tqdm(sampler.invert(pc, model_kwargs=dict(texts=[prompt]))):\n",
    "  samples = x\n",
    "  iterSample.append(x)\n"
   ]
  },
  {
   "cell_type": "code",
   "execution_count": 17,
   "metadata": {},
   "outputs": [
    {
     "data": {
      "text/plain": [
       "tensor([[[-4.4523e-02, -1.6998e-02,  7.4959e-04,  ...,  5.8441e-03,\n",
       "          -1.2627e-02, -9.4004e-02],\n",
       "         [-5.1922e-02, -6.1807e-02, -6.6776e-02,  ..., -1.4420e-03,\n",
       "          -1.3981e-02, -2.3487e-02],\n",
       "         [-5.7757e-02, -9.6827e-03, -8.2583e-03,  ..., -1.2584e-02,\n",
       "          -3.1506e-02, -6.1024e-02],\n",
       "         [ 1.6500e+02,  1.4100e+02,  1.3700e+02,  ...,  1.3500e+02,\n",
       "           1.7500e+02,  1.9000e+02],\n",
       "         [ 9.7000e+01,  1.0500e+02,  9.4000e+01,  ...,  1.0900e+02,\n",
       "           1.1400e+02,  1.5000e+02],\n",
       "         [ 1.0100e+02,  1.1000e+02,  9.2000e+01,  ...,  1.1400e+02,\n",
       "           1.2600e+02,  1.4600e+02]]])"
      ]
     },
     "execution_count": 17,
     "metadata": {},
     "output_type": "execute_result"
    }
   ],
   "source": [
    "pc = sampler.output_to_point_clouds(iterSample[4])[0]\n",
    "# plot_3D(pc)\n",
    "tensor = pc.to_tensor()\n",
    "tensor"
   ]
  },
  {
   "cell_type": "code",
   "execution_count": 8,
   "metadata": {},
   "outputs": [
    {
     "data": {
      "text/plain": [
       "<point_e.diffusion.sampler.PointCloudSampler at 0x1f520366050>"
      ]
     },
     "execution_count": 8,
     "metadata": {},
     "output_type": "execute_result"
    }
   ],
   "source": [
    "sampler"
   ]
  },
  {
   "cell_type": "code",
   "execution_count": null,
   "metadata": {},
   "outputs": [],
   "source": [
    "pc = sampler.output_to_point_clouds(samples)[0]\n",
    "fig = plot_point_cloud(pc, grid_size=3, fixed_bounds=((-0.75, -0.75, -0.75),(0.75, 0.75, 0.75)))"
   ]
  }
 ],
 "metadata": {
  "kernelspec": {
   "display_name": "Python 3.9.9 64-bit ('3.9.9')",
   "language": "python",
   "name": "python3"
  },
  "language_info": {
   "codemirror_mode": {
    "name": "ipython",
    "version": 3
   },
   "file_extension": ".py",
   "mimetype": "text/x-python",
   "name": "python",
   "nbconvert_exporter": "python",
   "pygments_lexer": "ipython3",
   "version": "3.11.7"
  },
  "orig_nbformat": 4,
  "vscode": {
   "interpreter": {
    "hash": "b270b0f43bc427bcab7703c037711644cc480aac7c1cc8d2940cfaf0b447ee2e"
   }
  }
 },
 "nbformat": 4,
 "nbformat_minor": 2
}
